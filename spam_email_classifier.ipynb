{
 "cells": [
  {
   "cell_type": "markdown",
   "id": "1f5fa3f2-87c1-4bb8-aa5d-d19096bbe892",
   "metadata": {},
   "source": [
    "# import useful libraries"
   ]
  },
  {
   "cell_type": "code",
   "execution_count": null,
   "id": "ec52611b-5f30-48f6-b695-c6f0e5489bbb",
   "metadata": {},
   "outputs": [],
   "source": [
    "import re\n",
    "import nltk\n",
    "import numpy as np\n",
    "import pandas as pd\n",
    "from sklearn.svm import SVC\n",
    "from nltk.corpus import stopwords\n",
    "from sklearn.pipeline import Pipeline\n",
    "from sklearn.model_selection import train_test_split\n",
    "from sklearn.linear_model import LogisticRegression\n",
    "from sklearn.feature_extraction.text import TfidfVectorizer\n",
    "from sklearn.model_selection import train_test_split, GridSearchCV\n",
    "from sklearn.naive_bayes import MultinomialNB\n",
    "from sklearn.ensemble import RandomForestClassifier\n",
    "from sklearn.metrics import classification_report, accuracy_score,confusion_matrix\n"
   ]
  },
  {
   "cell_type": "code",
   "execution_count": null,
   "id": "5cdf751d-ac3a-433f-a3e2-2879e30bb2e4",
   "metadata": {},
   "outputs": [],
   "source": [
    "data=pd.read_csv('spam.csv')"
   ]
  },
  {
   "cell_type": "code",
   "execution_count": null,
   "id": "6a65f363-495b-4ac9-b00b-1a502d57ea29",
   "metadata": {},
   "outputs": [],
   "source": [
    "data = data[['v1', 'v2']]"
   ]
  },
  {
   "cell_type": "code",
   "execution_count": null,
   "id": "7e440025-8b8d-416e-a94a-ff2c192c6183",
   "metadata": {},
   "outputs": [],
   "source": [
    "data.columns = ['label', 'text']"
   ]
  },
  {
   "cell_type": "code",
   "execution_count": null,
   "id": "634b72e6-ee37-4972-b12b-2c9da0d6e3f9",
   "metadata": {},
   "outputs": [],
   "source": [
    "spam_count = data['label'].where(data['label'] == 'spam').count()\n",
    "print(spam_count)\n",
    "ham_count = data['label'].where(data['label'] == 'ham').count()\n",
    "print(ham_count)"
   ]
  },
  {
   "cell_type": "code",
   "execution_count": null,
   "id": "3fedbba0-72a7-4f8e-ae10-7af95f007248",
   "metadata": {},
   "outputs": [],
   "source": [
    "data.head()"
   ]
  },
  {
   "cell_type": "code",
   "execution_count": null,
   "id": "6c2ef5eb-5504-4483-9ca8-a5bdddc0c897",
   "metadata": {},
   "outputs": [],
   "source": [
    "# Download NLTK resources\n",
    "nltk.download('stopwords')\n",
    "nltk.download('punkt')\n",
    "nltk.download('punkt_tab')"
   ]
  },
  {
   "cell_type": "markdown",
   "id": "3669edbf-534a-4053-9579-285b244dc707",
   "metadata": {},
   "source": [
    "# Data cleaning"
   ]
  },
  {
   "cell_type": "code",
   "execution_count": null,
   "id": "b72d856d-a5f3-42bc-949c-349bc6f20fcb",
   "metadata": {},
   "outputs": [],
   "source": [
    "def clean_text(text):\n",
    "    # Convert to lowercase\n",
    "    text = text.lower()\n",
    "    # Remove punctuation and special characters\n",
    "    text = re.sub(r'[^\\w\\s]', '', text)\n",
    "    # Remove stopwords\n",
    "    stop_words = set(stopwords.words('english'))\n",
    "    words = nltk.word_tokenize(text)\n",
    "    text = ' '.join([word for word in words if word not in stop_words])\n",
    "    return text"
   ]
  },
  {
   "cell_type": "code",
   "execution_count": null,
   "id": "c1122a8a-42c1-45c5-8538-8e92ff67f398",
   "metadata": {},
   "outputs": [],
   "source": [
    "labels = data['label']"
   ]
  },
  {
   "cell_type": "code",
   "execution_count": null,
   "id": "935a6835-6fa2-4506-be47-27d152c18229",
   "metadata": {
    "scrolled": true
   },
   "outputs": [],
   "source": [
    "emails_cleaned = [clean_text(email) for email in data['text']]\n",
    "print(\"Cleaned Emails:\")\n",
    "print(emails_cleaned)"
   ]
  },
  {
   "cell_type": "code",
   "execution_count": null,
   "id": "b86dd9ca-534e-4c21-a50b-74e3c8f84242",
   "metadata": {},
   "outputs": [],
   "source": [
    "# 1. Train-Test Split\n",
    "X_train, X_test, y_train, y_test = train_test_split(emails_cleaned, labels, test_size=0.2, random_state=42)"
   ]
  },
  {
   "cell_type": "markdown",
   "id": "64c7c27d-3a19-4ec7-8ac1-0d7c08d1e4c5",
   "metadata": {},
   "source": [
    "# Vectorization"
   ]
  },
  {
   "cell_type": "code",
   "execution_count": null,
   "id": "fe8f78ca-f913-4d66-8986-588aa5750e8a",
   "metadata": {},
   "outputs": [],
   "source": [
    "# Initialize the vectorizer\n",
    "vectorizer = TfidfVectorizer()\n",
    "\n",
    "# Transform the text data\n",
    "X_train_transformed = vectorizer.fit_transform(X_train).toarray()\n",
    "X_test_transformed= vectorizer.transform(X_test).toarray()"
   ]
  },
  {
   "cell_type": "markdown",
   "id": "3b58d1a9-3f62-4f6e-9f23-6c0fe48fca07",
   "metadata": {},
   "source": [
    "# Build model pipeline"
   ]
  },
  {
   "cell_type": "code",
   "execution_count": null,
   "id": "816e1e86-529f-4231-b052-eecce42451fa",
   "metadata": {},
   "outputs": [],
   "source": [
    "# 2. Define Models\n",
    "models = {\n",
    "    \"Logistic Regression\": LogisticRegression(max_iter=500),\n",
    "    \"Naive Bayes\": MultinomialNB(),\n",
    "    \"SVM\": SVC(kernel='linear', probability=True),\n",
    "    \"Random Forest\": RandomForestClassifier(n_estimators=100, random_state=42)\n",
    "}"
   ]
  },
  {
   "cell_type": "markdown",
   "id": "687a2492-b718-4267-8127-597a02f433c2",
   "metadata": {},
   "source": [
    "# Evaluation"
   ]
  },
  {
   "cell_type": "code",
   "execution_count": null,
   "id": "e332943f-6470-4f9f-89de-33ecd260c0d1",
   "metadata": {},
   "outputs": [],
   "source": [
    "# 3. Build and Evaluate Pipelines\n",
    "for model_name, model in models.items():\n",
    "    print(f\"Evaluating {model_name}...\")\n",
    "    pipeline = Pipeline([\n",
    "        ('tfidf', TfidfVectorizer()),  # Text embedding\n",
    "        ('classifier', model)         # Classifier\n",
    "    ])\n",
    "    \n",
    "    # Train the pipeline\n",
    "    pipeline.fit(X_train, y_train)\n",
    "    \n",
    "    # Predict and evaluate\n",
    "    y_pred = pipeline.predict(X_test)\n",
    "    print(f\"Accuracy: {accuracy_score(y_test, y_pred):.2f}\")\n",
    "    print(\"Classification Report:\")\n",
    "    print(classification_report(y_test, y_pred))\n",
    "    print(\"\\n\")"
   ]
  },
  {
   "cell_type": "markdown",
   "id": "5291656a-cbfe-43e4-a053-14953707d62c",
   "metadata": {},
   "source": [
    "# Fine Tuning"
   ]
  },
  {
   "cell_type": "code",
   "execution_count": null,
   "id": "56c15458-944c-4274-9719-34d335a92c62",
   "metadata": {},
   "outputs": [],
   "source": [
    "# Define the parameter grid\n",
    "param_grid = {\n",
    "    'C': [0.1, 1, 10],\n",
    "    'kernel': ['linear', 'rbf'],\n",
    "    'gamma': ['scale', 'auto'],\n",
    "}\n",
    "\n",
    "# Create the SVM model\n",
    "svm_model = SVC()\n",
    "\n",
    "# Perform Grid Search with 5-fold cross-validation\n",
    "grid_search = GridSearchCV(estimator=svm_model, param_grid=param_grid, cv=5, scoring='accuracy', verbose=2)\n",
    "\n",
    "# Fit the Grid Search on  training data\n",
    "grid_search.fit(X_train_transformed, y_train)\n",
    "\n",
    "# Display the best parameters and the best score\n",
    "print(\"Best Parameters:\", grid_search.best_params_)\n",
    "print(\"Best Accuracy:\", grid_search.best_score_)"
   ]
  },
  {
   "cell_type": "markdown",
   "id": "06e5fa89-73fd-4897-839c-6d5fb968380f",
   "metadata": {},
   "source": [
    "# Evaluation of Accuracy Metrics"
   ]
  },
  {
   "cell_type": "code",
   "execution_count": null,
   "id": "e0b2d6e1-fbd0-41fd-b098-e38fedcc7d22",
   "metadata": {},
   "outputs": [],
   "source": [
    "# Evaluate on test data\n",
    "test_accuracy = grid_search.score(X_test_transformed, y_test)\n",
    "print(\"Test Accuracy with Best Parameters:\", test_accuracy)"
   ]
  },
  {
   "cell_type": "markdown",
   "id": "eeaaf28c-aedd-46e6-a974-91a4cf9de5b2",
   "metadata": {},
   "source": [
    "# Random Example"
   ]
  },
  {
   "cell_type": "code",
   "execution_count": null,
   "id": "ef906263-9a62-4f92-869f-eb81877455aa",
   "metadata": {},
   "outputs": [],
   "source": [
    "input_your_mail = [\"PayPal Your access has been limited Dear Client, Our technical support and customer department has recently suspected activities in your account. Your Paypal account has been limited because we've noticed significant changes in your account activity. As Your payment processor, we need to understand these change better. We're always concerned about our customers security so please help us recover your account by following the link below. Restore Payment To PayPal Copyright © 1999-2020 PayPal. All rights reserved\"]\n",
    "mail = clean_text(\" \".join(input_your_mail))\n",
    "mail_transformed = vectorizer.transform([mail]).toarray()\n",
    "# Make predictions\n",
    "y_pred = grid_search.predict(mail_transformed)\n",
    "print(y_pred)"
   ]
  },
  {
   "cell_type": "code",
   "execution_count": null,
   "id": "ffcd9dbd-3e21-4a74-a0ad-352b26c5ab75",
   "metadata": {},
   "outputs": [],
   "source": []
  }
 ],
 "metadata": {
  "kernelspec": {
   "display_name": "Python 3 (ipykernel)",
   "language": "python",
   "name": "python3"
  },
  "language_info": {
   "codemirror_mode": {
    "name": "ipython",
    "version": 3
   },
   "file_extension": ".py",
   "mimetype": "text/x-python",
   "name": "python",
   "nbconvert_exporter": "python",
   "pygments_lexer": "ipython3",
   "version": "3.11.11"
  }
 },
 "nbformat": 4,
 "nbformat_minor": 5
}
